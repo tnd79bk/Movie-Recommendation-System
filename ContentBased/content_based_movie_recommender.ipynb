{
 "cells": [
  {
   "cell_type": "code",
   "execution_count": 1,
   "id": "e60d3f20",
   "metadata": {},
   "outputs": [],
   "source": [
    "import unicodedata\n",
    "import re\n",
    "import math\n",
    "import pandas as pd\n",
    "import matplotlib.pyplot as plt\n",
    "import numpy as np\n",
    "import seaborn as sns\n",
    "from scipy import stats\n",
    "from ast import literal_eval\n",
    "from sklearn.feature_extraction.text import CountVectorizer\n",
    "from sklearn.metrics.pairwise import cosine_similarity"
   ]
  },
  {
   "cell_type": "code",
   "execution_count": 2,
   "id": "c80640de",
   "metadata": {},
   "outputs": [],
   "source": [
    "credits_df = pd.read_csv('../data/clean/clean_credits.csv')\n",
    "keywords_df = pd.read_csv('../data/clean/clean_keywords.csv')\n",
    "movies_metadata_df = pd.read_csv('../data/clean/clean_movies_metadata.csv')\n",
    "rating_df = pd.read_csv('../data/raw/ratings.csv')"
   ]
  },
  {
   "cell_type": "code",
   "execution_count": 3,
   "id": "f5fd0796",
   "metadata": {},
   "outputs": [],
   "source": [
    "df=(credits_df.merge(movies_metadata_df,on='id')).merge(keywords_df,on='id')"
   ]
  },
  {
   "cell_type": "code",
   "execution_count": 4,
   "id": "19edeb26",
   "metadata": {
    "scrolled": true
   },
   "outputs": [
    {
     "data": {
      "text/html": [
       "<div>\n",
       "<style scoped>\n",
       "    .dataframe tbody tr th:only-of-type {\n",
       "        vertical-align: middle;\n",
       "    }\n",
       "\n",
       "    .dataframe tbody tr th {\n",
       "        vertical-align: top;\n",
       "    }\n",
       "\n",
       "    .dataframe thead th {\n",
       "        text-align: right;\n",
       "    }\n",
       "</style>\n",
       "<table border=\"1\" class=\"dataframe\">\n",
       "  <thead>\n",
       "    <tr style=\"text-align: right;\">\n",
       "      <th></th>\n",
       "      <th>Unnamed: 0_x</th>\n",
       "      <th>cast</th>\n",
       "      <th>id</th>\n",
       "      <th>director</th>\n",
       "      <th>Unnamed: 0_y</th>\n",
       "      <th>belongs_to_collection</th>\n",
       "      <th>budget</th>\n",
       "      <th>genres</th>\n",
       "      <th>original_language</th>\n",
       "      <th>popularity</th>\n",
       "      <th>...</th>\n",
       "      <th>runtime</th>\n",
       "      <th>status</th>\n",
       "      <th>title</th>\n",
       "      <th>vote_average</th>\n",
       "      <th>vote_count</th>\n",
       "      <th>release_year</th>\n",
       "      <th>profit</th>\n",
       "      <th>weighted_rating</th>\n",
       "      <th>Unnamed: 0</th>\n",
       "      <th>keywords</th>\n",
       "    </tr>\n",
       "  </thead>\n",
       "  <tbody>\n",
       "    <tr>\n",
       "      <th>0</th>\n",
       "      <td>0</td>\n",
       "      <td>['Tom Hanks', 'Tim Allen', 'Don Rickles']</td>\n",
       "      <td>862</td>\n",
       "      <td>John Lasseter</td>\n",
       "      <td>0</td>\n",
       "      <td>1</td>\n",
       "      <td>0.078947</td>\n",
       "      <td>['Animation', 'Comedy', 'Family']</td>\n",
       "      <td>en</td>\n",
       "      <td>21.946943</td>\n",
       "      <td>...</td>\n",
       "      <td>81.0</td>\n",
       "      <td>Released</td>\n",
       "      <td>Toy Story</td>\n",
       "      <td>7.7</td>\n",
       "      <td>5415.0</td>\n",
       "      <td>1995.0</td>\n",
       "      <td>0.904090</td>\n",
       "      <td>7.684684</td>\n",
       "      <td>0</td>\n",
       "      <td>['new toy', 'boy next door', 'toy comes to lif...</td>\n",
       "    </tr>\n",
       "    <tr>\n",
       "      <th>1</th>\n",
       "      <td>1</td>\n",
       "      <td>['Robin Williams', 'Jonathan Hyde', 'Kirsten D...</td>\n",
       "      <td>8844</td>\n",
       "      <td>Joe Johnston</td>\n",
       "      <td>1</td>\n",
       "      <td>0</td>\n",
       "      <td>0.171053</td>\n",
       "      <td>['Adventure', 'Fantasy', 'Family']</td>\n",
       "      <td>en</td>\n",
       "      <td>17.015540</td>\n",
       "      <td>...</td>\n",
       "      <td>104.0</td>\n",
       "      <td>Released</td>\n",
       "      <td>Jumanji</td>\n",
       "      <td>6.9</td>\n",
       "      <td>2413.0</td>\n",
       "      <td>1995.0</td>\n",
       "      <td>0.520519</td>\n",
       "      <td>6.877012</td>\n",
       "      <td>1</td>\n",
       "      <td>['recluse', 'board game', 'new home', 'giant i...</td>\n",
       "    </tr>\n",
       "    <tr>\n",
       "      <th>2</th>\n",
       "      <td>2</td>\n",
       "      <td>['Walter Matthau', 'Jack Lemmon', 'Ann-Margret']</td>\n",
       "      <td>15602</td>\n",
       "      <td>Howard Deutch</td>\n",
       "      <td>2</td>\n",
       "      <td>1</td>\n",
       "      <td>NaN</td>\n",
       "      <td>['Romance', 'Comedy']</td>\n",
       "      <td>en</td>\n",
       "      <td>11.712900</td>\n",
       "      <td>...</td>\n",
       "      <td>101.0</td>\n",
       "      <td>Released</td>\n",
       "      <td>Grumpier Old Men</td>\n",
       "      <td>6.5</td>\n",
       "      <td>92.0</td>\n",
       "      <td>1995.0</td>\n",
       "      <td>NaN</td>\n",
       "      <td>6.163983</td>\n",
       "      <td>2</td>\n",
       "      <td>['fishing', 'best friend', 'duringcreditssting...</td>\n",
       "    </tr>\n",
       "  </tbody>\n",
       "</table>\n",
       "<p>3 rows × 24 columns</p>\n",
       "</div>"
      ],
      "text/plain": [
       "   Unnamed: 0_x                                               cast     id  \\\n",
       "0             0          ['Tom Hanks', 'Tim Allen', 'Don Rickles']    862   \n",
       "1             1  ['Robin Williams', 'Jonathan Hyde', 'Kirsten D...   8844   \n",
       "2             2   ['Walter Matthau', 'Jack Lemmon', 'Ann-Margret']  15602   \n",
       "\n",
       "        director  Unnamed: 0_y  belongs_to_collection    budget  \\\n",
       "0  John Lasseter             0                      1  0.078947   \n",
       "1   Joe Johnston             1                      0  0.171053   \n",
       "2  Howard Deutch             2                      1       NaN   \n",
       "\n",
       "                               genres original_language  popularity  ...  \\\n",
       "0   ['Animation', 'Comedy', 'Family']                en   21.946943  ...   \n",
       "1  ['Adventure', 'Fantasy', 'Family']                en   17.015540  ...   \n",
       "2               ['Romance', 'Comedy']                en   11.712900  ...   \n",
       "\n",
       "  runtime    status             title  vote_average  vote_count release_year  \\\n",
       "0    81.0  Released         Toy Story           7.7      5415.0       1995.0   \n",
       "1   104.0  Released           Jumanji           6.9      2413.0       1995.0   \n",
       "2   101.0  Released  Grumpier Old Men           6.5        92.0       1995.0   \n",
       "\n",
       "     profit  weighted_rating  Unnamed: 0  \\\n",
       "0  0.904090         7.684684           0   \n",
       "1  0.520519         6.877012           1   \n",
       "2       NaN         6.163983           2   \n",
       "\n",
       "                                            keywords  \n",
       "0  ['new toy', 'boy next door', 'toy comes to lif...  \n",
       "1  ['recluse', 'board game', 'new home', 'giant i...  \n",
       "2  ['fishing', 'best friend', 'duringcreditssting...  \n",
       "\n",
       "[3 rows x 24 columns]"
      ]
     },
     "execution_count": 4,
     "metadata": {},
     "output_type": "execute_result"
    }
   ],
   "source": [
    "df.head(n=3)"
   ]
  },
  {
   "cell_type": "code",
   "execution_count": 5,
   "id": "23ebba0e",
   "metadata": {
    "scrolled": true
   },
   "outputs": [
    {
     "name": "stdout",
     "output_type": "stream",
     "text": [
      "<class 'pandas.core.frame.DataFrame'>\n",
      "Int64Index: 31641 entries, 0 to 31640\n",
      "Data columns (total 21 columns):\n",
      " #   Column                 Non-Null Count  Dtype  \n",
      "---  ------                 --------------  -----  \n",
      " 0   cast                   30752 non-null  object \n",
      " 1   id                     31641 non-null  int64  \n",
      " 2   director               31508 non-null  object \n",
      " 3   belongs_to_collection  31641 non-null  int64  \n",
      " 4   budget                 7815 non-null   float64\n",
      " 5   genres                 31641 non-null  object \n",
      " 6   original_language      31641 non-null  object \n",
      " 7   popularity             31641 non-null  float64\n",
      " 8   production_companies   31641 non-null  object \n",
      " 9   production_countries   31641 non-null  object \n",
      " 10  release_date           31641 non-null  object \n",
      " 11  revenue                6838 non-null   float64\n",
      " 12  runtime                31641 non-null  float64\n",
      " 13  status                 31641 non-null  object \n",
      " 14  title                  31641 non-null  object \n",
      " 15  vote_average           31641 non-null  float64\n",
      " 16  vote_count             31641 non-null  float64\n",
      " 17  release_year           31641 non-null  object \n",
      " 18  profit                 5102 non-null   float64\n",
      " 19  weighted_rating        31641 non-null  float64\n",
      " 20  keywords               31641 non-null  object \n",
      "dtypes: float64(8), int64(2), object(11)\n",
      "memory usage: 5.3+ MB\n"
     ]
    }
   ],
   "source": [
    "df.drop(df.filter(regex=\"Unname\"),axis=1, inplace=True)\n",
    "df.info()"
   ]
  },
  {
   "cell_type": "code",
   "execution_count": 6,
   "id": "103a5885",
   "metadata": {},
   "outputs": [
    {
     "data": {
      "text/plain": [
       "Released           31470\n",
       "Rumored              101\n",
       "Post Production       51\n",
       "Planned               10\n",
       "In Production          8\n",
       "Canceled               1\n",
       "Name: status, dtype: int64"
      ]
     },
     "execution_count": 6,
     "metadata": {},
     "output_type": "execute_result"
    }
   ],
   "source": [
    "df['status'].value_counts()"
   ]
  },
  {
   "cell_type": "code",
   "execution_count": 7,
   "id": "a469f276",
   "metadata": {},
   "outputs": [],
   "source": [
    "df=df[df['status']=='Released']\n",
    "df.drop('status', axis=1, inplace=True)"
   ]
  },
  {
   "cell_type": "code",
   "execution_count": 8,
   "id": "4b8bc879",
   "metadata": {},
   "outputs": [],
   "source": [
    "df = df[['id','title','cast','director','genres','keywords']]"
   ]
  },
  {
   "cell_type": "code",
   "execution_count": 9,
   "id": "91751252",
   "metadata": {},
   "outputs": [
    {
     "data": {
      "text/plain": [
       "id            0\n",
       "title         0\n",
       "cast        876\n",
       "director    132\n",
       "genres        0\n",
       "keywords      0\n",
       "dtype: int64"
      ]
     },
     "execution_count": 9,
     "metadata": {},
     "output_type": "execute_result"
    }
   ],
   "source": [
    "df.isnull().sum()"
   ]
  },
  {
   "cell_type": "code",
   "execution_count": 10,
   "id": "4a097b20",
   "metadata": {},
   "outputs": [],
   "source": [
    "df.dropna(inplace=True)"
   ]
  },
  {
   "cell_type": "code",
   "execution_count": 11,
   "id": "0a8787c6",
   "metadata": {
    "scrolled": true
   },
   "outputs": [
    {
     "data": {
      "text/plain": [
       "id          0\n",
       "title       0\n",
       "cast        0\n",
       "director    0\n",
       "genres      0\n",
       "keywords    0\n",
       "dtype: int64"
      ]
     },
     "execution_count": 11,
     "metadata": {},
     "output_type": "execute_result"
    }
   ],
   "source": [
    "df.isnull().sum()"
   ]
  },
  {
   "cell_type": "code",
   "execution_count": 12,
   "id": "de357962",
   "metadata": {},
   "outputs": [],
   "source": [
    "training_df = df"
   ]
  },
  {
   "cell_type": "code",
   "execution_count": 13,
   "id": "8c70ee1e",
   "metadata": {},
   "outputs": [],
   "source": [
    "training_df=training_df[['title','cast','director','genres','keywords']]"
   ]
  },
  {
   "cell_type": "code",
   "execution_count": 14,
   "id": "de9f9522",
   "metadata": {},
   "outputs": [
    {
     "data": {
      "text/html": [
       "<div>\n",
       "<style scoped>\n",
       "    .dataframe tbody tr th:only-of-type {\n",
       "        vertical-align: middle;\n",
       "    }\n",
       "\n",
       "    .dataframe tbody tr th {\n",
       "        vertical-align: top;\n",
       "    }\n",
       "\n",
       "    .dataframe thead th {\n",
       "        text-align: right;\n",
       "    }\n",
       "</style>\n",
       "<table border=\"1\" class=\"dataframe\">\n",
       "  <thead>\n",
       "    <tr style=\"text-align: right;\">\n",
       "      <th></th>\n",
       "      <th>title</th>\n",
       "      <th>cast</th>\n",
       "      <th>director</th>\n",
       "      <th>genres</th>\n",
       "      <th>keywords</th>\n",
       "    </tr>\n",
       "  </thead>\n",
       "  <tbody>\n",
       "    <tr>\n",
       "      <th>0</th>\n",
       "      <td>Toy Story</td>\n",
       "      <td>['Tom Hanks', 'Tim Allen', 'Don Rickles']</td>\n",
       "      <td>John Lasseter</td>\n",
       "      <td>['Animation', 'Comedy', 'Family']</td>\n",
       "      <td>['new toy', 'boy next door', 'toy comes to lif...</td>\n",
       "    </tr>\n",
       "    <tr>\n",
       "      <th>1</th>\n",
       "      <td>Jumanji</td>\n",
       "      <td>['Robin Williams', 'Jonathan Hyde', 'Kirsten D...</td>\n",
       "      <td>Joe Johnston</td>\n",
       "      <td>['Adventure', 'Fantasy', 'Family']</td>\n",
       "      <td>['recluse', 'board game', 'new home', 'giant i...</td>\n",
       "    </tr>\n",
       "    <tr>\n",
       "      <th>2</th>\n",
       "      <td>Grumpier Old Men</td>\n",
       "      <td>['Walter Matthau', 'Jack Lemmon', 'Ann-Margret']</td>\n",
       "      <td>Howard Deutch</td>\n",
       "      <td>['Romance', 'Comedy']</td>\n",
       "      <td>['fishing', 'best friend', 'duringcreditssting...</td>\n",
       "    </tr>\n",
       "  </tbody>\n",
       "</table>\n",
       "</div>"
      ],
      "text/plain": [
       "              title                                               cast  \\\n",
       "0         Toy Story          ['Tom Hanks', 'Tim Allen', 'Don Rickles']   \n",
       "1           Jumanji  ['Robin Williams', 'Jonathan Hyde', 'Kirsten D...   \n",
       "2  Grumpier Old Men   ['Walter Matthau', 'Jack Lemmon', 'Ann-Margret']   \n",
       "\n",
       "        director                              genres  \\\n",
       "0  John Lasseter   ['Animation', 'Comedy', 'Family']   \n",
       "1   Joe Johnston  ['Adventure', 'Fantasy', 'Family']   \n",
       "2  Howard Deutch               ['Romance', 'Comedy']   \n",
       "\n",
       "                                            keywords  \n",
       "0  ['new toy', 'boy next door', 'toy comes to lif...  \n",
       "1  ['recluse', 'board game', 'new home', 'giant i...  \n",
       "2  ['fishing', 'best friend', 'duringcreditssting...  "
      ]
     },
     "execution_count": 14,
     "metadata": {},
     "output_type": "execute_result"
    }
   ],
   "source": [
    "training_df.head(n=3)"
   ]
  },
  {
   "cell_type": "code",
   "execution_count": 15,
   "id": "d509b9e9",
   "metadata": {},
   "outputs": [
    {
     "name": "stdout",
     "output_type": "stream",
     "text": [
      "<class 'pandas.core.frame.DataFrame'>\n",
      "Int64Index: 30462 entries, 0 to 31640\n",
      "Data columns (total 5 columns):\n",
      " #   Column    Non-Null Count  Dtype \n",
      "---  ------    --------------  ----- \n",
      " 0   title     30462 non-null  object\n",
      " 1   cast      30462 non-null  object\n",
      " 2   director  30462 non-null  object\n",
      " 3   genres    30462 non-null  object\n",
      " 4   keywords  30462 non-null  object\n",
      "dtypes: object(5)\n",
      "memory usage: 1.4+ MB\n"
     ]
    }
   ],
   "source": [
    "training_df.info()"
   ]
  },
  {
   "cell_type": "code",
   "execution_count": 16,
   "id": "3a68dfcc",
   "metadata": {},
   "outputs": [
    {
     "name": "stderr",
     "output_type": "stream",
     "text": [
      "/home/taquan/Desktop/DHBK/20211/AI/aiminiprojectfinal/venv/lib/python3.8/site-packages/pandas/util/_decorators.py:311: SettingWithCopyWarning: \n",
      "A value is trying to be set on a copy of a slice from a DataFrame\n",
      "\n",
      "See the caveats in the documentation: https://pandas.pydata.org/pandas-docs/stable/user_guide/indexing.html#returning-a-view-versus-a-copy\n",
      "  return func(*args, **kwargs)\n"
     ]
    }
   ],
   "source": [
    "training_df.drop_duplicates(\"title\", inplace=True)\n",
    "training_df = training_df.reset_index()"
   ]
  },
  {
   "cell_type": "code",
   "execution_count": 17,
   "id": "68c479fd",
   "metadata": {},
   "outputs": [],
   "source": [
    "def clean_data(value):\n",
    "    value =  unicodedata.normalize('NFD', value).encode('ascii', 'ignore').decode('ascii')\n",
    "    x= str.lower(re.sub(r\"[^a-zA-Z0-9]+\", '_', value.strip().replace(\" \",\"_\")))\n",
    "    if(x!='_'):\n",
    "        return x \n",
    "    else:\n",
    "        return \" \""
   ]
  },
  {
   "cell_type": "code",
   "execution_count": 18,
   "id": "209b115d",
   "metadata": {
    "scrolled": false
   },
   "outputs": [],
   "source": [
    "training_df['director'] = training_df['director'].apply(lambda x: clean_data(x))\n",
    "training_df['cast'] = training_df['cast'].apply(lambda x : [clean_data(i) for i in literal_eval(x)])\n",
    "training_df['genres'] = training_df['genres'].apply(lambda x : [clean_data(i) for i in literal_eval(x)])\n",
    "training_df['keywords'] = training_df['keywords'].apply(lambda x : [clean_data(i) for i in literal_eval(x)])"
   ]
  },
  {
   "cell_type": "code",
   "execution_count": 19,
   "id": "3cf79c73",
   "metadata": {
    "scrolled": false
   },
   "outputs": [
    {
     "data": {
      "text/html": [
       "<div>\n",
       "<style scoped>\n",
       "    .dataframe tbody tr th:only-of-type {\n",
       "        vertical-align: middle;\n",
       "    }\n",
       "\n",
       "    .dataframe tbody tr th {\n",
       "        vertical-align: top;\n",
       "    }\n",
       "\n",
       "    .dataframe thead th {\n",
       "        text-align: right;\n",
       "    }\n",
       "</style>\n",
       "<table border=\"1\" class=\"dataframe\">\n",
       "  <thead>\n",
       "    <tr style=\"text-align: right;\">\n",
       "      <th></th>\n",
       "      <th>index</th>\n",
       "      <th>title</th>\n",
       "      <th>cast</th>\n",
       "      <th>director</th>\n",
       "      <th>genres</th>\n",
       "      <th>keywords</th>\n",
       "    </tr>\n",
       "  </thead>\n",
       "  <tbody>\n",
       "    <tr>\n",
       "      <th>0</th>\n",
       "      <td>0</td>\n",
       "      <td>Toy Story</td>\n",
       "      <td>[tom_hanks, tim_allen, don_rickles]</td>\n",
       "      <td>john_lasseter</td>\n",
       "      <td>[animation, comedy, family]</td>\n",
       "      <td>[new_toy, boy_next_door, toy_comes_to_life, to...</td>\n",
       "    </tr>\n",
       "    <tr>\n",
       "      <th>1</th>\n",
       "      <td>1</td>\n",
       "      <td>Jumanji</td>\n",
       "      <td>[robin_williams, jonathan_hyde, kirsten_dunst]</td>\n",
       "      <td>joe_johnston</td>\n",
       "      <td>[adventure, fantasy, family]</td>\n",
       "      <td>[recluse, board_game, new_home, giant_insect, ...</td>\n",
       "    </tr>\n",
       "    <tr>\n",
       "      <th>2</th>\n",
       "      <td>2</td>\n",
       "      <td>Grumpier Old Men</td>\n",
       "      <td>[walter_matthau, jack_lemmon, ann_margret]</td>\n",
       "      <td>howard_deutch</td>\n",
       "      <td>[romance, comedy]</td>\n",
       "      <td>[fishing, best_friend, duringcreditsstinger, o...</td>\n",
       "    </tr>\n",
       "  </tbody>\n",
       "</table>\n",
       "</div>"
      ],
      "text/plain": [
       "   index             title                                            cast  \\\n",
       "0      0         Toy Story             [tom_hanks, tim_allen, don_rickles]   \n",
       "1      1           Jumanji  [robin_williams, jonathan_hyde, kirsten_dunst]   \n",
       "2      2  Grumpier Old Men      [walter_matthau, jack_lemmon, ann_margret]   \n",
       "\n",
       "        director                        genres  \\\n",
       "0  john_lasseter   [animation, comedy, family]   \n",
       "1   joe_johnston  [adventure, fantasy, family]   \n",
       "2  howard_deutch             [romance, comedy]   \n",
       "\n",
       "                                            keywords  \n",
       "0  [new_toy, boy_next_door, toy_comes_to_life, to...  \n",
       "1  [recluse, board_game, new_home, giant_insect, ...  \n",
       "2  [fishing, best_friend, duringcreditsstinger, o...  "
      ]
     },
     "execution_count": 19,
     "metadata": {},
     "output_type": "execute_result"
    }
   ],
   "source": [
    "training_df.head(n=3)"
   ]
  },
  {
   "cell_type": "code",
   "execution_count": 20,
   "id": "ca30756e",
   "metadata": {
    "scrolled": false
   },
   "outputs": [],
   "source": [
    "training_df['bow']=training_df['cast']+training_df['keywords'] + training_df['genres']\n",
    "training_df['bow']=training_df['bow'].apply(lambda x: ' '.join(x))+\" \"+training_df['director']"
   ]
  },
  {
   "cell_type": "code",
   "execution_count": 21,
   "id": "0aa671f8",
   "metadata": {
    "scrolled": false
   },
   "outputs": [
    {
     "data": {
      "text/plain": [
       "0    tom_hanks tim_allen don_rickles new_toy boy_ne...\n",
       "1    robin_williams jonathan_hyde kirsten_dunst rec...\n",
       "2    walter_matthau jack_lemmon ann_margret fishing...\n",
       "Name: bow, dtype: object"
      ]
     },
     "execution_count": 21,
     "metadata": {},
     "output_type": "execute_result"
    }
   ],
   "source": [
    "training_df[\"bow\"].head(n=3)"
   ]
  },
  {
   "cell_type": "code",
   "execution_count": 22,
   "id": "f37daa7f",
   "metadata": {},
   "outputs": [],
   "source": [
    "vectorizer = CountVectorizer(stop_words='english')\n",
    "train_array = vectorizer.fit_transform(training_df['bow'])"
   ]
  },
  {
   "cell_type": "code",
   "execution_count": 23,
   "id": "1d068b9f",
   "metadata": {},
   "outputs": [],
   "source": [
    "cosine_sim = cosine_similarity(train_array, train_array)"
   ]
  },
  {
   "cell_type": "code",
   "execution_count": 24,
   "id": "ba70e2e3",
   "metadata": {
    "scrolled": false
   },
   "outputs": [],
   "source": [
    "training_df = training_df.reset_index()\n",
    "indices = pd.Series(training_df.index, index=training_df['title'])"
   ]
  },
  {
   "cell_type": "code",
   "execution_count": 25,
   "id": "81e8ade1",
   "metadata": {},
   "outputs": [],
   "source": [
    "def get_items_rated_by_user(user_id):\n",
    "    return_df = rating_df[rating_df['userId'] == user_id]\n",
    "    return_df = return_df[return_df['movieId'].isin(df['id'])]\n",
    "    return_df['movieId'] = return_df['movieId'].apply(lambda id: indices[df[df['id'] == id]['title']].iloc[0])\n",
    "    return (return_df['movieId'], return_df['rating'])"
   ]
  },
  {
   "cell_type": "code",
   "execution_count": 26,
   "id": "868e18de",
   "metadata": {},
   "outputs": [],
   "source": [
    "def predict_rating(known_ids, known_scores, unknown_id, unknown_score):\n",
    "    sum_weight = 0\n",
    "    sum_rate = 0\n",
    "    for i in known_ids.index:\n",
    "        sum_rate += known_scores[i] * cosine_sim[known_ids[i]][unknown_id]\n",
    "        sum_weight += cosine_sim[known_ids[i]][unknown_id]\n",
    "    if(sum_weight == 0):\n",
    "        return unknown_score\n",
    "    unknown_score = sum_rate / sum_weight\n",
    "    return unknown_score"
   ]
  },
  {
   "cell_type": "code",
   "execution_count": 27,
   "id": "0d2743a6",
   "metadata": {},
   "outputs": [],
   "source": [
    "def get_recommendations(user_id):\n",
    "    ids, scores = get_items_rated_by_user(user_id)\n",
    "    result_set = {}\n",
    "    for i in range(len(indices)):\n",
    "        if i not in ids.tolist():\n",
    "            result_set[i] = predict_rating(ids, scores, i, 0)\n",
    "    result_set = dict(sorted(result_set.items(), key=lambda item: item[1], reverse=True))\n",
    "    return training_df['title'].iloc[list(result_set.keys())[:10]]"
   ]
  },
  {
   "cell_type": "code",
   "execution_count": 28,
   "id": "e2f432c2",
   "metadata": {
    "scrolled": false
   },
   "outputs": [
    {
     "data": {
      "text/plain": [
       "148                       Judge Dredd\n",
       "272                    The Specialist\n",
       "378                       Cliffhanger\n",
       "647                  Independence Day\n",
       "656                          Daylight\n",
       "1098    Amityville II: The Possession\n",
       "1388                        Anastasia\n",
       "1561          Plan 9 from Outer Space\n",
       "1979       Rambo: First Blood Part II\n",
       "1980                      First Blood\n",
       "Name: title, dtype: object"
      ]
     },
     "execution_count": 28,
     "metadata": {},
     "output_type": "execute_result"
    }
   ],
   "source": [
    "get_recommendations(user_id=1)"
   ]
  },
  {
   "cell_type": "markdown",
   "id": "e1fb16c5",
   "metadata": {},
   "source": [
    "The test part is started from here"
   ]
  },
  {
   "cell_type": "code",
   "execution_count": 29,
   "id": "0a1d4b63",
   "metadata": {},
   "outputs": [],
   "source": [
    "def calculate_error(ids, scores):\n",
    "    error = 0\n",
    "    for i in ids.index:\n",
    "        error += (scores[i] - predict_rating(ids.drop(i), scores.drop(i), ids[i], scores[i]))**2\n",
    "    return (error / ids.size)**(1/2)  "
   ]
  },
  {
   "cell_type": "code",
   "execution_count": 30,
   "id": "bae62123",
   "metadata": {},
   "outputs": [],
   "source": [
    "def calculate_all_error(n_user):\n",
    "    error = 0\n",
    "    for i in range(1, n_user+1):\n",
    "        ids, scores = get_items_rated_by_user(i)\n",
    "        error += calculate_error(ids, scores)\n",
    "    return (error / 10)"
   ]
  },
  {
   "cell_type": "code",
   "execution_count": 31,
   "id": "7f4e55a1",
   "metadata": {
    "scrolled": true
   },
   "outputs": [
    {
     "data": {
      "text/plain": [
       "1.0109529162552133"
      ]
     },
     "execution_count": 31,
     "metadata": {},
     "output_type": "execute_result"
    }
   ],
   "source": [
    "calculate_all_error(10)"
   ]
  }
 ],
 "metadata": {
  "kernelspec": {
   "display_name": "Python 3",
   "language": "python",
   "name": "python3"
  },
  "language_info": {
   "codemirror_mode": {
    "name": "ipython",
    "version": 3
   },
   "file_extension": ".py",
   "mimetype": "text/x-python",
   "name": "python",
   "nbconvert_exporter": "python",
   "pygments_lexer": "ipython3",
   "version": "3.8.8"
  }
 },
 "nbformat": 4,
 "nbformat_minor": 5
}
